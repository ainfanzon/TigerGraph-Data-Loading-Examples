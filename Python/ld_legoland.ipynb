{
 "cells": [
  {
   "cell_type": "markdown",
   "id": "869aefbd-24dc-4626-b0d4-788383deac50",
   "metadata": {},
   "source": [
    "<img src=\"img/legoland.jpg\" alt=\"Drawing\" width=\"1700\" height=\"100\"/>\n",
    "\n",
    "# Import necessary libraries and Connect to TigerGraph"
   ]
  },
  {
   "cell_type": "code",
   "execution_count": 1,
   "id": "6dfd59b1-7657-4b10-a266-3e9dc156a316",
   "metadata": {
    "tags": []
   },
   "outputs": [],
   "source": [
    "from mySetup import *\n",
    "\n",
    "# Docker 3.7 \n",
    "\n",
    "conn=tg.TigerGraphConnection(host='http://0.0.0.0'\n",
    "        , graphname='legoland'\n",
    "        , username='tigergraph'\n",
    "        , password='tigergraph') \n",
    "\n",
    "# New TG Cloud 3.8 \n",
    "\n",
    "#h = 'https://ai2.i.tgcloud.io'\n",
    "#g = 'legoland'\n",
    "#s = 'kkpoal84607c0j50f7065a1eivoe3ksr'\n",
    "#conn=tg.TigerGraphConnection(host=h,graphname=g,gsqlSecret=s)\n",
    "#conn.getToken(s)"
   ]
  },
  {
   "cell_type": "markdown",
   "id": "69de6323-0b12-4173-b100-8b9418691172",
   "metadata": {},
   "source": [
    "# Set data files default directory"
   ]
  },
  {
   "cell_type": "code",
   "execution_count": 2,
   "id": "10fcac7e-9034-4b2a-895e-95539f54be5c",
   "metadata": {},
   "outputs": [],
   "source": [
    "DATADIR = \"/Users/Shared/legoland/data/tigergraph/\""
   ]
  },
  {
   "cell_type": "markdown",
   "id": "888d8cd2-7a21-488a-ab85-504b83f4ad09",
   "metadata": {},
   "source": [
    "# Load Vertices\n",
    "\n",
    "---\n",
    "Load the inventories dataframe and  the inventories vertex\n",
    "\n",
    "---"
   ]
  },
  {
   "cell_type": "code",
   "execution_count": 3,
   "id": "516864ac-8af4-474b-8bb7-18f8e13f3107",
   "metadata": {
    "tags": []
   },
   "outputs": [
    {
     "data": {
      "text/plain": [
       "count     34608\n",
       "unique    34608\n",
       "top           1\n",
       "freq          1\n",
       "Name: id, dtype: object"
      ]
     },
     "execution_count": 3,
     "metadata": {},
     "output_type": "execute_result"
    }
   ],
   "source": [
    "df_inventories = pd.read_csv(DATADIR+'inventories.csv')\n",
    "df_inventories['id'] = df_inventories['id'].astype('string')\n",
    "df_inventories['id'].describe()"
   ]
  },
  {
   "cell_type": "code",
   "execution_count": 4,
   "id": "a18871b4-b957-4f78-9198-77cfc667e155",
   "metadata": {},
   "outputs": [
    {
     "name": "stdout",
     "output_type": "stream",
     "text": [
      "34608 VERTICES Upserted\n"
     ]
    }
   ],
   "source": [
    "vs_inventories = conn.upsertVertexDataFrame(\n",
    "      df = df_inventories\n",
    "    , vertexType = 'inventories'\n",
    "    , v_id = 'id'\n",
    "    , attributes = {'version':'version'}\n",
    ")\n",
    "print(str(vs_inventories) + ' VERTICES Upserted')"
   ]
  },
  {
   "cell_type": "markdown",
   "id": "70339059-1280-4b7a-8046-76c17fa17629",
   "metadata": {},
   "source": [
    "---\n",
    "Load parts dataframe. Upsert VERTEX parts\n",
    "\n",
    "---"
   ]
  },
  {
   "cell_type": "code",
   "execution_count": 5,
   "id": "c241204d-e9d3-4204-840e-66e1cf004042",
   "metadata": {
    "tags": []
   },
   "outputs": [
    {
     "data": {
      "text/html": [
       "<div>\n",
       "<style scoped>\n",
       "    .dataframe tbody tr th:only-of-type {\n",
       "        vertical-align: middle;\n",
       "    }\n",
       "\n",
       "    .dataframe tbody tr th {\n",
       "        vertical-align: top;\n",
       "    }\n",
       "\n",
       "    .dataframe thead th {\n",
       "        text-align: right;\n",
       "    }\n",
       "</style>\n",
       "<table border=\"1\" class=\"dataframe\">\n",
       "  <thead>\n",
       "    <tr style=\"text-align: right;\">\n",
       "      <th></th>\n",
       "      <th>name</th>\n",
       "      <th>part_material</th>\n",
       "    </tr>\n",
       "  </thead>\n",
       "  <tbody>\n",
       "    <tr>\n",
       "      <th>count</th>\n",
       "      <td>49128</td>\n",
       "      <td>49128</td>\n",
       "    </tr>\n",
       "    <tr>\n",
       "      <th>unique</th>\n",
       "      <td>48680</td>\n",
       "      <td>6</td>\n",
       "    </tr>\n",
       "    <tr>\n",
       "      <th>top</th>\n",
       "      <td>Pen Bead, Square with Matoran Alphabet (Circles and Lines) Print</td>\n",
       "      <td>Plastic</td>\n",
       "    </tr>\n",
       "    <tr>\n",
       "      <th>freq</th>\n",
       "      <td>9</td>\n",
       "      <td>45781</td>\n",
       "    </tr>\n",
       "  </tbody>\n",
       "</table>\n",
       "</div>"
      ],
      "text/plain": [
       "                                                                    name  \\\n",
       "count                                                              49128   \n",
       "unique                                                             48680   \n",
       "top     Pen Bead, Square with Matoran Alphabet (Circles and Lines) Print   \n",
       "freq                                                                   9   \n",
       "\n",
       "       part_material  \n",
       "count          49128  \n",
       "unique             6  \n",
       "top          Plastic  \n",
       "freq           45781  "
      ]
     },
     "execution_count": 5,
     "metadata": {},
     "output_type": "execute_result"
    }
   ],
   "source": [
    "df_parts = pd.read_csv(DATADIR + 'parts.tsv', sep='\\t')\n",
    "df_parts[['name','part_material']].describe(include='all')"
   ]
  },
  {
   "cell_type": "code",
   "execution_count": 7,
   "id": "cd3eaf67-318d-44e2-81ae-0f63b62e4e43",
   "metadata": {},
   "outputs": [
    {
     "name": "stdout",
     "output_type": "stream",
     "text": [
      "49128 VERTICES Upserted\n"
     ]
    }
   ],
   "source": [
    "vs_parts = conn.upsertVertexDataFrame(\n",
    "      df = df_parts\n",
    "    , vertexType = 'parts'\n",
    "    , v_id = 'part_num'\n",
    "        , attributes={\n",
    "              'name':'name'\n",
    "            , 'part_material':'part_material'\n",
    "         }\n",
    ")\n",
    "print(str(vs_parts) + ' VERTICES Upserted')"
   ]
  },
  {
   "cell_type": "markdown",
   "id": "f98a37ed-22b1-47c5-96ee-2f6409c310bc",
   "metadata": {},
   "source": [
    "---\n",
    "Load minifigs dataframe and upload minifigs VERTEX\n",
    "\n",
    "---"
   ]
  },
  {
   "cell_type": "code",
   "execution_count": 8,
   "id": "32d86c6a-4657-4718-94e3-d3fcf90a137d",
   "metadata": {
    "tags": []
   },
   "outputs": [
    {
     "data": {
      "text/html": [
       "<div>\n",
       "<style scoped>\n",
       "    .dataframe tbody tr th:only-of-type {\n",
       "        vertical-align: middle;\n",
       "    }\n",
       "\n",
       "    .dataframe tbody tr th {\n",
       "        vertical-align: top;\n",
       "    }\n",
       "\n",
       "    .dataframe thead th {\n",
       "        text-align: right;\n",
       "    }\n",
       "</style>\n",
       "<table border=\"1\" class=\"dataframe\">\n",
       "  <thead>\n",
       "    <tr style=\"text-align: right;\">\n",
       "      <th></th>\n",
       "      <th>fig_num</th>\n",
       "      <th>name</th>\n",
       "      <th>num_parts</th>\n",
       "    </tr>\n",
       "  </thead>\n",
       "  <tbody>\n",
       "    <tr>\n",
       "      <th>count</th>\n",
       "      <td>12654</td>\n",
       "      <td>12654</td>\n",
       "      <td>12654.000000</td>\n",
       "    </tr>\n",
       "    <tr>\n",
       "      <th>unique</th>\n",
       "      <td>12654</td>\n",
       "      <td>12297</td>\n",
       "      <td>NaN</td>\n",
       "    </tr>\n",
       "    <tr>\n",
       "      <th>top</th>\n",
       "      <td>fig-000001</td>\n",
       "      <td>Space Police III - Officer</td>\n",
       "      <td>NaN</td>\n",
       "    </tr>\n",
       "    <tr>\n",
       "      <th>freq</th>\n",
       "      <td>1</td>\n",
       "      <td>14</td>\n",
       "      <td>NaN</td>\n",
       "    </tr>\n",
       "    <tr>\n",
       "      <th>mean</th>\n",
       "      <td>NaN</td>\n",
       "      <td>NaN</td>\n",
       "      <td>5.001264</td>\n",
       "    </tr>\n",
       "    <tr>\n",
       "      <th>std</th>\n",
       "      <td>NaN</td>\n",
       "      <td>NaN</td>\n",
       "      <td>4.377218</td>\n",
       "    </tr>\n",
       "    <tr>\n",
       "      <th>min</th>\n",
       "      <td>NaN</td>\n",
       "      <td>NaN</td>\n",
       "      <td>0.000000</td>\n",
       "    </tr>\n",
       "    <tr>\n",
       "      <th>25%</th>\n",
       "      <td>NaN</td>\n",
       "      <td>NaN</td>\n",
       "      <td>4.000000</td>\n",
       "    </tr>\n",
       "    <tr>\n",
       "      <th>50%</th>\n",
       "      <td>NaN</td>\n",
       "      <td>NaN</td>\n",
       "      <td>4.000000</td>\n",
       "    </tr>\n",
       "    <tr>\n",
       "      <th>75%</th>\n",
       "      <td>NaN</td>\n",
       "      <td>NaN</td>\n",
       "      <td>5.000000</td>\n",
       "    </tr>\n",
       "    <tr>\n",
       "      <th>max</th>\n",
       "      <td>NaN</td>\n",
       "      <td>NaN</td>\n",
       "      <td>148.000000</td>\n",
       "    </tr>\n",
       "  </tbody>\n",
       "</table>\n",
       "</div>"
      ],
      "text/plain": [
       "           fig_num                        name     num_parts\n",
       "count        12654                       12654  12654.000000\n",
       "unique       12654                       12297           NaN\n",
       "top     fig-000001  Space Police III - Officer           NaN\n",
       "freq             1                          14           NaN\n",
       "mean           NaN                         NaN      5.001264\n",
       "std            NaN                         NaN      4.377218\n",
       "min            NaN                         NaN      0.000000\n",
       "25%            NaN                         NaN      4.000000\n",
       "50%            NaN                         NaN      4.000000\n",
       "75%            NaN                         NaN      5.000000\n",
       "max            NaN                         NaN    148.000000"
      ]
     },
     "execution_count": 8,
     "metadata": {},
     "output_type": "execute_result"
    }
   ],
   "source": [
    "df_minifigs = pd.read_csv(DATADIR + 'minifigs.tsv', sep='\\t')\n",
    "df_minifigs[['fig_num', 'name', 'num_parts']].describe(include='all')"
   ]
  },
  {
   "cell_type": "code",
   "execution_count": 9,
   "id": "82fa9a58-904a-43a2-a5c2-c25e6d590fa5",
   "metadata": {},
   "outputs": [
    {
     "name": "stdout",
     "output_type": "stream",
     "text": [
      "12654 VERTICES Upserted\n"
     ]
    }
   ],
   "source": [
    "vs_minifigs = conn.upsertVertexDataFrame(\n",
    "      df = df_minifigs\n",
    "    , vertexType = 'minifigs'''\n",
    "    , v_id = 'fig_num'\n",
    "        , attributes={\n",
    "              'name':'name'\n",
    "            , 'num_parts':'num_parts'\n",
    "            , 'img_url':'img_url'\n",
    "         }\n",
    ")\n",
    "print(str(vs_minifigs) + ' VERTICES Upserted')"
   ]
  },
  {
   "cell_type": "markdown",
   "id": "161347fc-fd6a-4478-93d7-7bb9efd95bf9",
   "metadata": {},
   "source": [
    "---\n",
    "Load sets dataframe and upload sets VERTEX\n",
    "\n",
    "---"
   ]
  },
  {
   "cell_type": "code",
   "execution_count": 10,
   "id": "e5979b55-7c42-45f7-823e-67359bb62aca",
   "metadata": {
    "tags": []
   },
   "outputs": [
    {
     "data": {
      "text/html": [
       "<div>\n",
       "<style scoped>\n",
       "    .dataframe tbody tr th:only-of-type {\n",
       "        vertical-align: middle;\n",
       "    }\n",
       "\n",
       "    .dataframe tbody tr th {\n",
       "        vertical-align: top;\n",
       "    }\n",
       "\n",
       "    .dataframe thead th {\n",
       "        text-align: right;\n",
       "    }\n",
       "</style>\n",
       "<table border=\"1\" class=\"dataframe\">\n",
       "  <thead>\n",
       "    <tr style=\"text-align: right;\">\n",
       "      <th></th>\n",
       "      <th>set_num</th>\n",
       "      <th>name</th>\n",
       "      <th>year</th>\n",
       "      <th>theme_id</th>\n",
       "      <th>num_parts</th>\n",
       "    </tr>\n",
       "  </thead>\n",
       "  <tbody>\n",
       "    <tr>\n",
       "      <th>count</th>\n",
       "      <td>33060</td>\n",
       "      <td>33060</td>\n",
       "      <td>33060</td>\n",
       "      <td>33060</td>\n",
       "      <td>33060.000000</td>\n",
       "    </tr>\n",
       "    <tr>\n",
       "      <th>unique</th>\n",
       "      <td>33060</td>\n",
       "      <td>30144</td>\n",
       "      <td>73</td>\n",
       "      <td>459</td>\n",
       "      <td>NaN</td>\n",
       "    </tr>\n",
       "    <tr>\n",
       "      <th>top</th>\n",
       "      <td>001-1</td>\n",
       "      <td>Basic Building Set</td>\n",
       "      <td>2021</td>\n",
       "      <td>158</td>\n",
       "      <td>NaN</td>\n",
       "    </tr>\n",
       "    <tr>\n",
       "      <th>freq</th>\n",
       "      <td>1</td>\n",
       "      <td>57</td>\n",
       "      <td>1291</td>\n",
       "      <td>876</td>\n",
       "      <td>NaN</td>\n",
       "    </tr>\n",
       "    <tr>\n",
       "      <th>mean</th>\n",
       "      <td>NaN</td>\n",
       "      <td>NaN</td>\n",
       "      <td>NaN</td>\n",
       "      <td>NaN</td>\n",
       "      <td>126.642377</td>\n",
       "    </tr>\n",
       "    <tr>\n",
       "      <th>std</th>\n",
       "      <td>NaN</td>\n",
       "      <td>NaN</td>\n",
       "      <td>NaN</td>\n",
       "      <td>NaN</td>\n",
       "      <td>324.165042</td>\n",
       "    </tr>\n",
       "    <tr>\n",
       "      <th>min</th>\n",
       "      <td>NaN</td>\n",
       "      <td>NaN</td>\n",
       "      <td>NaN</td>\n",
       "      <td>NaN</td>\n",
       "      <td>0.000000</td>\n",
       "    </tr>\n",
       "    <tr>\n",
       "      <th>25%</th>\n",
       "      <td>NaN</td>\n",
       "      <td>NaN</td>\n",
       "      <td>NaN</td>\n",
       "      <td>NaN</td>\n",
       "      <td>12.000000</td>\n",
       "    </tr>\n",
       "    <tr>\n",
       "      <th>50%</th>\n",
       "      <td>NaN</td>\n",
       "      <td>NaN</td>\n",
       "      <td>NaN</td>\n",
       "      <td>NaN</td>\n",
       "      <td>52.000000</td>\n",
       "    </tr>\n",
       "    <tr>\n",
       "      <th>75%</th>\n",
       "      <td>NaN</td>\n",
       "      <td>NaN</td>\n",
       "      <td>NaN</td>\n",
       "      <td>NaN</td>\n",
       "      <td>118.000000</td>\n",
       "    </tr>\n",
       "    <tr>\n",
       "      <th>max</th>\n",
       "      <td>NaN</td>\n",
       "      <td>NaN</td>\n",
       "      <td>NaN</td>\n",
       "      <td>NaN</td>\n",
       "      <td>11695.000000</td>\n",
       "    </tr>\n",
       "  </tbody>\n",
       "</table>\n",
       "</div>"
      ],
      "text/plain": [
       "       set_num                name   year theme_id     num_parts\n",
       "count    33060               33060  33060    33060  33060.000000\n",
       "unique   33060               30144     73      459           NaN\n",
       "top      001-1  Basic Building Set   2021      158           NaN\n",
       "freq         1                  57   1291      876           NaN\n",
       "mean       NaN                 NaN    NaN      NaN    126.642377\n",
       "std        NaN                 NaN    NaN      NaN    324.165042\n",
       "min        NaN                 NaN    NaN      NaN      0.000000\n",
       "25%        NaN                 NaN    NaN      NaN     12.000000\n",
       "50%        NaN                 NaN    NaN      NaN     52.000000\n",
       "75%        NaN                 NaN    NaN      NaN    118.000000\n",
       "max        NaN                 NaN    NaN      NaN  11695.000000"
      ]
     },
     "execution_count": 10,
     "metadata": {},
     "output_type": "execute_result"
    }
   ],
   "source": [
    "df_sets = pd.read_csv(DATADIR + 'sets.tsv', sep='\\t')\n",
    "df_sets['year'] = df_sets['year'].astype('string')\n",
    "df_sets['theme_id'] = df_sets['theme_id'].astype('string')\n",
    "df_sets[['set_num', 'name', 'year', 'theme_id', 'num_parts']].describe(include='all')"
   ]
  },
  {
   "cell_type": "code",
   "execution_count": 11,
   "id": "7d300849-7861-4a6f-9c7f-c6bda77bc46f",
   "metadata": {},
   "outputs": [
    {
     "name": "stdout",
     "output_type": "stream",
     "text": [
      "33060 VERTICES Upserted\n"
     ]
    }
   ],
   "source": [
    "vs_sets = conn.upsertVertexDataFrame(\n",
    "      df = df_sets\n",
    "    , vertexType = 'sets'\n",
    "    , v_id = 'set_num'\n",
    "        , attributes={\n",
    "              'name':'name'\n",
    "            , 'year':'year'\n",
    "            , 'num_parts':'num_parts'\n",
    "            , 'img_url':'img_url'\n",
    "         }\n",
    ")\n",
    "print(str(vs_sets) + ' VERTICES Upserted')"
   ]
  },
  {
   "cell_type": "markdown",
   "id": "c442dd93-5878-461d-8d60-5778b6d407a7",
   "metadata": {},
   "source": [
    "---\n",
    "Load part_categories dataframe and upload part_categories VERTEX\n",
    "\n",
    "---"
   ]
  },
  {
   "cell_type": "code",
   "execution_count": 12,
   "id": "01722448-b3c8-4517-a891-73451ac95912",
   "metadata": {
    "tags": []
   },
   "outputs": [
    {
     "data": {
      "text/html": [
       "<div>\n",
       "<style scoped>\n",
       "    .dataframe tbody tr th:only-of-type {\n",
       "        vertical-align: middle;\n",
       "    }\n",
       "\n",
       "    .dataframe tbody tr th {\n",
       "        vertical-align: top;\n",
       "    }\n",
       "\n",
       "    .dataframe thead th {\n",
       "        text-align: right;\n",
       "    }\n",
       "</style>\n",
       "<table border=\"1\" class=\"dataframe\">\n",
       "  <thead>\n",
       "    <tr style=\"text-align: right;\">\n",
       "      <th></th>\n",
       "      <th>name</th>\n",
       "    </tr>\n",
       "  </thead>\n",
       "  <tbody>\n",
       "    <tr>\n",
       "      <th>count</th>\n",
       "      <td>66</td>\n",
       "    </tr>\n",
       "    <tr>\n",
       "      <th>unique</th>\n",
       "      <td>66</td>\n",
       "    </tr>\n",
       "    <tr>\n",
       "      <th>top</th>\n",
       "      <td>Baseplates</td>\n",
       "    </tr>\n",
       "    <tr>\n",
       "      <th>freq</th>\n",
       "      <td>1</td>\n",
       "    </tr>\n",
       "  </tbody>\n",
       "</table>\n",
       "</div>"
      ],
      "text/plain": [
       "              name\n",
       "count           66\n",
       "unique          66\n",
       "top     Baseplates\n",
       "freq             1"
      ]
     },
     "execution_count": 12,
     "metadata": {},
     "output_type": "execute_result"
    }
   ],
   "source": [
    "df_part_categories = pd.read_csv(DATADIR + 'part_categories.tsv', sep='\\t')\n",
    "df_part_categories[['name']].describe(include='all')"
   ]
  },
  {
   "cell_type": "code",
   "execution_count": 13,
   "id": "59c0c4a0-8a94-43a8-bbce-cee358393225",
   "metadata": {},
   "outputs": [
    {
     "name": "stdout",
     "output_type": "stream",
     "text": [
      "66 VERTICES Upserted\n"
     ]
    }
   ],
   "source": [
    "vs_part_categories = conn.upsertVertexDataFrame(\n",
    "      df = df_part_categories\n",
    "    , vertexType = 'part_categories'\n",
    "    , v_id = 'id'\n",
    "        , attributes={\n",
    "              'name':'name'\n",
    "         }\n",
    ")\n",
    "print(str(vs_part_categories) + ' VERTICES Upserted')"
   ]
  },
  {
   "cell_type": "markdown",
   "id": "492dc7a0-964a-4b1f-add1-9f1886306761",
   "metadata": {},
   "source": [
    "---\n",
    "Load elements dataframe and upload elements VERTEX\n",
    "\n",
    "---"
   ]
  },
  {
   "cell_type": "code",
   "execution_count": 14,
   "id": "dedc60bd-742c-4ca4-832e-ea4fd532c9be",
   "metadata": {
    "tags": []
   },
   "outputs": [
    {
     "data": {
      "text/html": [
       "<div>\n",
       "<style scoped>\n",
       "    .dataframe tbody tr th:only-of-type {\n",
       "        vertical-align: middle;\n",
       "    }\n",
       "\n",
       "    .dataframe tbody tr th {\n",
       "        vertical-align: top;\n",
       "    }\n",
       "\n",
       "    .dataframe thead th {\n",
       "        text-align: right;\n",
       "    }\n",
       "</style>\n",
       "<table border=\"1\" class=\"dataframe\">\n",
       "  <thead>\n",
       "    <tr style=\"text-align: right;\">\n",
       "      <th></th>\n",
       "      <th>element_id</th>\n",
       "    </tr>\n",
       "  </thead>\n",
       "  <tbody>\n",
       "    <tr>\n",
       "      <th>count</th>\n",
       "      <td>74170</td>\n",
       "    </tr>\n",
       "    <tr>\n",
       "      <th>unique</th>\n",
       "      <td>74170</td>\n",
       "    </tr>\n",
       "    <tr>\n",
       "      <th>top</th>\n",
       "      <td>6300211</td>\n",
       "    </tr>\n",
       "    <tr>\n",
       "      <th>freq</th>\n",
       "      <td>1</td>\n",
       "    </tr>\n",
       "  </tbody>\n",
       "</table>\n",
       "</div>"
      ],
      "text/plain": [
       "       element_id\n",
       "count       74170\n",
       "unique      74170\n",
       "top       6300211\n",
       "freq            1"
      ]
     },
     "execution_count": 14,
     "metadata": {},
     "output_type": "execute_result"
    }
   ],
   "source": [
    "df_elements = pd.read_csv(DATADIR + 'elements.csv')\n",
    "df_elements['element_id'] = df_elements['element_id'].astype('string')\n",
    "df_elements[['element_id']].describe(include='all')"
   ]
  },
  {
   "cell_type": "code",
   "execution_count": 15,
   "id": "b70f4b50-cfc1-4fea-9427-78db3f6ede6a",
   "metadata": {},
   "outputs": [
    {
     "name": "stdout",
     "output_type": "stream",
     "text": [
      "74170 VERTICES Upserted\n"
     ]
    }
   ],
   "source": [
    "vs_elements = conn.upsertVertexDataFrame(\n",
    "      df = df_elements\n",
    "    , vertexType = 'elements'\n",
    "    , v_id = 'element_id'\n",
    "        , attributes={\n",
    "              'element_id':'element_id'\n",
    "         }\n",
    ")\n",
    "print(str(vs_elements) + ' VERTICES Upserted')"
   ]
  },
  {
   "cell_type": "markdown",
   "id": "bda11304-4871-484e-a036-9c491b05ed0f",
   "metadata": {},
   "source": [
    "---\n",
    "Load themes dataframe and upload themes VERTEX\n",
    "\n",
    "---"
   ]
  },
  {
   "cell_type": "code",
   "execution_count": 16,
   "id": "fc64bd5e-dab1-4c19-87d7-e53c198db0ea",
   "metadata": {
    "tags": []
   },
   "outputs": [
    {
     "data": {
      "text/html": [
       "<div>\n",
       "<style scoped>\n",
       "    .dataframe tbody tr th:only-of-type {\n",
       "        vertical-align: middle;\n",
       "    }\n",
       "\n",
       "    .dataframe tbody tr th {\n",
       "        vertical-align: top;\n",
       "    }\n",
       "\n",
       "    .dataframe thead th {\n",
       "        text-align: right;\n",
       "    }\n",
       "</style>\n",
       "<table border=\"1\" class=\"dataframe\">\n",
       "  <thead>\n",
       "    <tr style=\"text-align: right;\">\n",
       "      <th></th>\n",
       "      <th>id</th>\n",
       "      <th>parent_id</th>\n",
       "      <th>name</th>\n",
       "    </tr>\n",
       "  </thead>\n",
       "  <tbody>\n",
       "    <tr>\n",
       "      <th>count</th>\n",
       "      <td>459</td>\n",
       "      <td>318</td>\n",
       "      <td>459</td>\n",
       "    </tr>\n",
       "    <tr>\n",
       "      <th>unique</th>\n",
       "      <td>459</td>\n",
       "      <td>54</td>\n",
       "      <td>376</td>\n",
       "    </tr>\n",
       "    <tr>\n",
       "      <th>top</th>\n",
       "      <td>1</td>\n",
       "      <td>535.0</td>\n",
       "      <td>Supplemental</td>\n",
       "    </tr>\n",
       "    <tr>\n",
       "      <th>freq</th>\n",
       "      <td>1</td>\n",
       "      <td>41</td>\n",
       "      <td>7</td>\n",
       "    </tr>\n",
       "  </tbody>\n",
       "</table>\n",
       "</div>"
      ],
      "text/plain": [
       "         id parent_id          name\n",
       "count   459       318           459\n",
       "unique  459        54           376\n",
       "top       1     535.0  Supplemental\n",
       "freq      1        41             7"
      ]
     },
     "execution_count": 16,
     "metadata": {},
     "output_type": "execute_result"
    }
   ],
   "source": [
    "df_themes = pd.read_csv(DATADIR + 'themes.csv')\n",
    "df_themes['id'] = df_themes['id'].astype('string')\n",
    "df_themes['parent_id'] = df_themes['parent_id'].astype('string')\n",
    "df_themes[['id', 'parent_id', 'name']].describe(include='all')"
   ]
  },
  {
   "cell_type": "code",
   "execution_count": 17,
   "id": "80c086d2-dbac-4293-9501-ab66c9f2dcd8",
   "metadata": {},
   "outputs": [
    {
     "name": "stdout",
     "output_type": "stream",
     "text": [
      "459 VERTICES Upserted\n"
     ]
    }
   ],
   "source": [
    "vs_themes = conn.upsertVertexDataFrame(\n",
    "      df = df_themes\n",
    "    , vertexType = 'themes'\n",
    "    , v_id = 'id'\n",
    "        , attributes={\n",
    "              \"name\":\"name\"\n",
    "         }\n",
    ")\n",
    "print(str(vs_themes) + \" VERTICES Upserted\")"
   ]
  },
  {
   "cell_type": "markdown",
   "id": "643c4062-3bdd-48f2-a9fd-5086d4b2aa3d",
   "metadata": {},
   "source": [
    "---\n",
    "Load colors dataframe and upload colors VERTEX\n",
    "\n",
    "---"
   ]
  },
  {
   "cell_type": "code",
   "execution_count": 19,
   "id": "fd685370-033e-45fd-b73c-c3859aaaaca1",
   "metadata": {
    "tags": []
   },
   "outputs": [
    {
     "data": {
      "text/html": [
       "<div>\n",
       "<style scoped>\n",
       "    .dataframe tbody tr th:only-of-type {\n",
       "        vertical-align: middle;\n",
       "    }\n",
       "\n",
       "    .dataframe tbody tr th {\n",
       "        vertical-align: top;\n",
       "    }\n",
       "\n",
       "    .dataframe thead th {\n",
       "        text-align: right;\n",
       "    }\n",
       "</style>\n",
       "<table border=\"1\" class=\"dataframe\">\n",
       "  <thead>\n",
       "    <tr style=\"text-align: right;\">\n",
       "      <th></th>\n",
       "      <th>id</th>\n",
       "      <th>name</th>\n",
       "      <th>rgb</th>\n",
       "      <th>is_trans</th>\n",
       "    </tr>\n",
       "  </thead>\n",
       "  <tbody>\n",
       "    <tr>\n",
       "      <th>count</th>\n",
       "      <td>217</td>\n",
       "      <td>217</td>\n",
       "      <td>217</td>\n",
       "      <td>217</td>\n",
       "    </tr>\n",
       "    <tr>\n",
       "      <th>unique</th>\n",
       "      <td>217</td>\n",
       "      <td>217</td>\n",
       "      <td>189</td>\n",
       "      <td>2</td>\n",
       "    </tr>\n",
       "    <tr>\n",
       "      <th>top</th>\n",
       "      <td>-1</td>\n",
       "      <td>[Unknown]</td>\n",
       "      <td>05131D</td>\n",
       "      <td>f</td>\n",
       "    </tr>\n",
       "    <tr>\n",
       "      <th>freq</th>\n",
       "      <td>1</td>\n",
       "      <td>1</td>\n",
       "      <td>5</td>\n",
       "      <td>179</td>\n",
       "    </tr>\n",
       "  </tbody>\n",
       "</table>\n",
       "</div>"
      ],
      "text/plain": [
       "         id       name     rgb is_trans\n",
       "count   217        217     217      217\n",
       "unique  217        217     189        2\n",
       "top      -1  [Unknown]  05131D        f\n",
       "freq      1          1       5      179"
      ]
     },
     "execution_count": 19,
     "metadata": {},
     "output_type": "execute_result"
    }
   ],
   "source": [
    "df_colors = pd.read_csv(DATADIR + 'colors.csv')\n",
    "df_colors['id'] = df_colors['id'].astype('string')\n",
    "df_colors['is_trans'] = df_colors['is_trans'].apply(lambda input: input==\"t\")\n",
    "df_colors[['id', 'name', 'rgb', 'is_trans']].describe(include='all')"
   ]
  },
  {
   "cell_type": "code",
   "execution_count": 20,
   "id": "62a20d0f-781e-4cab-a164-f42277841845",
   "metadata": {},
   "outputs": [
    {
     "name": "stdout",
     "output_type": "stream",
     "text": [
      "217 VERTICES Upserted\n"
     ]
    }
   ],
   "source": [
    "vs_colors = conn.upsertVertexDataFrame(\n",
    "      df = df_colors\n",
    "    , vertexType = 'colors'\n",
    "    , v_id = 'id'\n",
    "        , attributes={\n",
    "              'name':'name'\n",
    "            , 'rgb':'rgb'\n",
    "            , 'is_trans':'is_trans'\n",
    "         }\n",
    ")\n",
    "print(str(vs_colors) + ' VERTICES Upserted')"
   ]
  },
  {
   "cell_type": "markdown",
   "id": "2dea37d4-282b-4574-adc8-f962801eb34e",
   "metadata": {},
   "source": [
    "# Load Edges\n",
    "\n",
    "---\n",
    "Load **inventory2minifigs** dataframe and upload **inventory_minifigs** EDGE\n",
    "\n",
    "---"
   ]
  },
  {
   "cell_type": "code",
   "execution_count": 25,
   "id": "e3b45825-9899-4c10-a2ea-154f9564436b",
   "metadata": {},
   "outputs": [
    {
     "data": {
      "text/html": [
       "<div>\n",
       "<style scoped>\n",
       "    .dataframe tbody tr th:only-of-type {\n",
       "        vertical-align: middle;\n",
       "    }\n",
       "\n",
       "    .dataframe tbody tr th {\n",
       "        vertical-align: top;\n",
       "    }\n",
       "\n",
       "    .dataframe thead th {\n",
       "        text-align: right;\n",
       "    }\n",
       "</style>\n",
       "<table border=\"1\" class=\"dataframe\">\n",
       "  <thead>\n",
       "    <tr style=\"text-align: right;\">\n",
       "      <th></th>\n",
       "      <th>inventory_id</th>\n",
       "      <th>fig_num</th>\n",
       "      <th>quantity</th>\n",
       "    </tr>\n",
       "  </thead>\n",
       "  <tbody>\n",
       "    <tr>\n",
       "      <th>count</th>\n",
       "      <td>19206</td>\n",
       "      <td>19206</td>\n",
       "      <td>19206.000000</td>\n",
       "    </tr>\n",
       "    <tr>\n",
       "      <th>unique</th>\n",
       "      <td>7777</td>\n",
       "      <td>12387</td>\n",
       "      <td>NaN</td>\n",
       "    </tr>\n",
       "    <tr>\n",
       "      <th>top</th>\n",
       "      <td>42856</td>\n",
       "      <td>fig-002229</td>\n",
       "      <td>NaN</td>\n",
       "    </tr>\n",
       "    <tr>\n",
       "      <th>freq</th>\n",
       "      <td>69</td>\n",
       "      <td>42</td>\n",
       "      <td>NaN</td>\n",
       "    </tr>\n",
       "    <tr>\n",
       "      <th>mean</th>\n",
       "      <td>NaN</td>\n",
       "      <td>NaN</td>\n",
       "      <td>1.064980</td>\n",
       "    </tr>\n",
       "    <tr>\n",
       "      <th>std</th>\n",
       "      <td>NaN</td>\n",
       "      <td>NaN</td>\n",
       "      <td>0.810595</td>\n",
       "    </tr>\n",
       "    <tr>\n",
       "      <th>min</th>\n",
       "      <td>NaN</td>\n",
       "      <td>NaN</td>\n",
       "      <td>1.000000</td>\n",
       "    </tr>\n",
       "    <tr>\n",
       "      <th>25%</th>\n",
       "      <td>NaN</td>\n",
       "      <td>NaN</td>\n",
       "      <td>1.000000</td>\n",
       "    </tr>\n",
       "    <tr>\n",
       "      <th>50%</th>\n",
       "      <td>NaN</td>\n",
       "      <td>NaN</td>\n",
       "      <td>1.000000</td>\n",
       "    </tr>\n",
       "    <tr>\n",
       "      <th>75%</th>\n",
       "      <td>NaN</td>\n",
       "      <td>NaN</td>\n",
       "      <td>1.000000</td>\n",
       "    </tr>\n",
       "    <tr>\n",
       "      <th>max</th>\n",
       "      <td>NaN</td>\n",
       "      <td>NaN</td>\n",
       "      <td>100.000000</td>\n",
       "    </tr>\n",
       "  </tbody>\n",
       "</table>\n",
       "</div>"
      ],
      "text/plain": [
       "       inventory_id     fig_num      quantity\n",
       "count         19206       19206  19206.000000\n",
       "unique         7777       12387           NaN\n",
       "top           42856  fig-002229           NaN\n",
       "freq             69          42           NaN\n",
       "mean            NaN         NaN      1.064980\n",
       "std             NaN         NaN      0.810595\n",
       "min             NaN         NaN      1.000000\n",
       "25%             NaN         NaN      1.000000\n",
       "50%             NaN         NaN      1.000000\n",
       "75%             NaN         NaN      1.000000\n",
       "max             NaN         NaN    100.000000"
      ]
     },
     "execution_count": 25,
     "metadata": {},
     "output_type": "execute_result"
    }
   ],
   "source": [
    "df_inventory2minifigs = pd.read_csv(DATADIR + 'inventory_minifigs.csv')\n",
    "df_inventory2minifigs['inventory_id'] = df_inventory2minifigs['inventory_id'].astype('string')\n",
    "df_inventory2minifigs[['inventory_id', 'fig_num', 'quantity']].describe(include='all')"
   ]
  },
  {
   "cell_type": "code",
   "execution_count": 26,
   "id": "99d96b3b-881b-4a34-9b98-39467d10f791",
   "metadata": {},
   "outputs": [
    {
     "name": "stdout",
     "output_type": "stream",
     "text": [
      "19206 Edges Upserted\n"
     ]
    }
   ],
   "source": [
    "e_inventory_minifigs = conn.upsertEdgeDataFrame(\n",
    "    df_inventory2minifigs, 'inventories', 'inventory_minifigs', 'minifigs'\n",
    "  , from_id='inventory_id', to_id='fig_num'\n",
    "  , attributes = {'quantity':'quantity'}\n",
    ")\n",
    "print(str(e_inventory_minifigs) + ' Edges Upserted')"
   ]
  },
  {
   "cell_type": "markdown",
   "id": "25874d7c-c1ba-4f6a-a96e-776cd3992e06",
   "metadata": {},
   "source": [
    "---\n",
    "Load **parts2elements** dataframe and upload **parts_to_elements** EDGE\n",
    "\n",
    "---"
   ]
  },
  {
   "cell_type": "code",
   "execution_count": 27,
   "id": "2599d03e-2360-4de8-abfc-602712af6bb4",
   "metadata": {},
   "outputs": [
    {
     "name": "stdout",
     "output_type": "stream",
     "text": [
      "74170 Edges Upserted\n"
     ]
    }
   ],
   "source": [
    "e_parts2elements = conn.upsertEdgeDataFrame(\n",
    "    df_elements, 'parts', 'parts_to_elements', 'elements'\n",
    "  , from_id='part_num', to_id='element_id'\n",
    "  , attributes={}\n",
    ")\n",
    "print(str(e_parts2elements) + ' Edges Upserted')"
   ]
  },
  {
   "cell_type": "markdown",
   "id": "99bf0cbf-296b-4e94-8606-5f3fb79bfa9f",
   "metadata": {},
   "source": [
    "---\n",
    "Load **inventory2parts** dataframe and upload **inventory_parts** EDGE\n",
    "\n",
    "---"
   ]
  },
  {
   "cell_type": "code",
   "execution_count": 29,
   "id": "f5614dde-8fc7-4ad1-99f6-83f9ac59eeaa",
   "metadata": {
    "tags": []
   },
   "outputs": [
    {
     "data": {
      "text/html": [
       "<div>\n",
       "<style scoped>\n",
       "    .dataframe tbody tr th:only-of-type {\n",
       "        vertical-align: middle;\n",
       "    }\n",
       "\n",
       "    .dataframe tbody tr th {\n",
       "        vertical-align: top;\n",
       "    }\n",
       "\n",
       "    .dataframe thead th {\n",
       "        text-align: right;\n",
       "    }\n",
       "</style>\n",
       "<table border=\"1\" class=\"dataframe\">\n",
       "  <thead>\n",
       "    <tr style=\"text-align: right;\">\n",
       "      <th></th>\n",
       "      <th>inventory_id</th>\n",
       "      <th>part_num</th>\n",
       "      <th>color_id</th>\n",
       "    </tr>\n",
       "  </thead>\n",
       "  <tbody>\n",
       "    <tr>\n",
       "      <th>count</th>\n",
       "      <td>1076422</td>\n",
       "      <td>1076422</td>\n",
       "      <td>1076422</td>\n",
       "    </tr>\n",
       "    <tr>\n",
       "      <th>unique</th>\n",
       "      <td>30333</td>\n",
       "      <td>46991</td>\n",
       "      <td>204</td>\n",
       "    </tr>\n",
       "    <tr>\n",
       "      <th>top</th>\n",
       "      <td>42856</td>\n",
       "      <td>6141</td>\n",
       "      <td>0</td>\n",
       "    </tr>\n",
       "    <tr>\n",
       "      <th>freq</th>\n",
       "      <td>1554</td>\n",
       "      <td>28052</td>\n",
       "      <td>193077</td>\n",
       "    </tr>\n",
       "  </tbody>\n",
       "</table>\n",
       "</div>"
      ],
      "text/plain": [
       "       inventory_id part_num color_id\n",
       "count       1076422  1076422  1076422\n",
       "unique        30333    46991      204\n",
       "top           42856     6141        0\n",
       "freq           1554    28052   193077"
      ]
     },
     "execution_count": 29,
     "metadata": {},
     "output_type": "execute_result"
    }
   ],
   "source": [
    "# Check if there are null values and count them\n",
    "# df_inventory2parts['img_url'].isna().sum()\n",
    "df_inventory2parts = pd.read_csv(DATADIR + 'inventory_parts.csv')\n",
    "# Replace nulls otherwise the upsertEdgeDataFrame function fails\n",
    "df_inventory2parts['img_url'].fillna('N/A', inplace=True)\n",
    "df_inventory2parts['inventory_id'] = df_inventory2parts['inventory_id'].astype('string')\n",
    "df_inventory2parts['part_num'] = df_inventory2parts['part_num'].astype('string')\n",
    "df_inventory2parts['color_id'] = df_inventory2parts['color_id'].astype('string')\n",
    "df_inventory2parts[['inventory_id', 'part_num', 'color_id']].describe(include='all')"
   ]
  },
  {
   "cell_type": "code",
   "execution_count": 30,
   "id": "dab83987-d602-430b-9a15-5de3b986999a",
   "metadata": {},
   "outputs": [
    {
     "name": "stdout",
     "output_type": "stream",
     "text": [
      "789716 Edges Upserted\n"
     ]
    }
   ],
   "source": [
    "e_inventory_parts = conn.upsertEdgeDataFrame(\n",
    "    df_inventory2parts, 'inventories', 'inventory_parts', 'parts'\n",
    "  , from_id='inventory_id', to_id='part_num'\n",
    "  , attributes = {'quantity':'quantity', 'is_spare':'is_spare', 'img_url':'img_url'}\n",
    ")\n",
    "print(str(e_inventory_parts) + ' Edges Upserted')"
   ]
  },
  {
   "cell_type": "markdown",
   "id": "3c200c2f-2e1a-47bd-924d-c572009692a2",
   "metadata": {},
   "source": [
    "---\n",
    "Load **categ2parts** dataframe and upload **part_categories_to_parts** EDGE\n",
    "\n",
    "---"
   ]
  },
  {
   "cell_type": "code",
   "execution_count": 31,
   "id": "65c7d235-1906-4e7f-8c52-27bf1494d76b",
   "metadata": {},
   "outputs": [
    {
     "name": "stdout",
     "output_type": "stream",
     "text": [
      "49128 Edges Upserted\n"
     ]
    }
   ],
   "source": [
    "e_categ2parts = conn.upsertEdgeDataFrame(\n",
    "    df_parts, 'part_categories', 'part_categories_to_parts', 'parts'\n",
    "  , from_id='part_cat_id', to_id='part_num'\n",
    "  , attributes = {}\n",
    ")\n",
    "print(str(e_categ2parts) + ' Edges Upserted')"
   ]
  },
  {
   "cell_type": "markdown",
   "id": "080b35ef-2e44-41e3-85a3-b0ea60aefdb7",
   "metadata": {},
   "source": [
    "---\n",
    "Upload **themes_to_sets** EDGE from **sets** dataframe\n",
    "\n",
    "---"
   ]
  },
  {
   "cell_type": "code",
   "execution_count": 32,
   "id": "038d5832-bd0d-4f31-a206-99b4907e9e4b",
   "metadata": {},
   "outputs": [
    {
     "name": "stdout",
     "output_type": "stream",
     "text": [
      "33060 Edges Upserted\n"
     ]
    }
   ],
   "source": [
    "e_theme2sets = conn.upsertEdgeDataFrame(\n",
    "    df_sets, 'themes', 'themes_to_sets', 'sets'\n",
    "  , from_id='theme_id', to_id='set_num'\n",
    "  , attributes = {}\n",
    ")\n",
    "print(str(e_theme2sets) + ' Edges Upserted')"
   ]
  },
  {
   "cell_type": "markdown",
   "id": "55025064-0e40-4ce8-88ae-d9fd72a61dd0",
   "metadata": {},
   "source": [
    "---\n",
    "Load **inventory2sets** dataframe and upload **part_categories_to_parts** EDGE\n",
    "\n",
    "---"
   ]
  },
  {
   "cell_type": "code",
   "execution_count": 34,
   "id": "1249b18f-e70a-43ba-8338-3f55765b52df",
   "metadata": {},
   "outputs": [
    {
     "data": {
      "text/html": [
       "<div>\n",
       "<style scoped>\n",
       "    .dataframe tbody tr th:only-of-type {\n",
       "        vertical-align: middle;\n",
       "    }\n",
       "\n",
       "    .dataframe tbody tr th {\n",
       "        vertical-align: top;\n",
       "    }\n",
       "\n",
       "    .dataframe thead th {\n",
       "        text-align: right;\n",
       "    }\n",
       "</style>\n",
       "<table border=\"1\" class=\"dataframe\">\n",
       "  <thead>\n",
       "    <tr style=\"text-align: right;\">\n",
       "      <th></th>\n",
       "      <th>inventory_id</th>\n",
       "      <th>set_num</th>\n",
       "      <th>quantity</th>\n",
       "    </tr>\n",
       "  </thead>\n",
       "  <tbody>\n",
       "    <tr>\n",
       "      <th>count</th>\n",
       "      <td>3986.000000</td>\n",
       "      <td>3986</td>\n",
       "      <td>3986.000000</td>\n",
       "    </tr>\n",
       "    <tr>\n",
       "      <th>unique</th>\n",
       "      <td>NaN</td>\n",
       "      <td>2963</td>\n",
       "      <td>NaN</td>\n",
       "    </tr>\n",
       "    <tr>\n",
       "      <th>top</th>\n",
       "      <td>NaN</td>\n",
       "      <td>7241-1</td>\n",
       "      <td>NaN</td>\n",
       "    </tr>\n",
       "    <tr>\n",
       "      <th>freq</th>\n",
       "      <td>NaN</td>\n",
       "      <td>12</td>\n",
       "      <td>NaN</td>\n",
       "    </tr>\n",
       "    <tr>\n",
       "      <th>mean</th>\n",
       "      <td>41624.325389</td>\n",
       "      <td>NaN</td>\n",
       "      <td>1.821124</td>\n",
       "    </tr>\n",
       "    <tr>\n",
       "      <th>std</th>\n",
       "      <td>48918.576866</td>\n",
       "      <td>NaN</td>\n",
       "      <td>5.824826</td>\n",
       "    </tr>\n",
       "    <tr>\n",
       "      <th>min</th>\n",
       "      <td>35.000000</td>\n",
       "      <td>NaN</td>\n",
       "      <td>1.000000</td>\n",
       "    </tr>\n",
       "    <tr>\n",
       "      <th>25%</th>\n",
       "      <td>7277.250000</td>\n",
       "      <td>NaN</td>\n",
       "      <td>1.000000</td>\n",
       "    </tr>\n",
       "    <tr>\n",
       "      <th>50%</th>\n",
       "      <td>14948.000000</td>\n",
       "      <td>NaN</td>\n",
       "      <td>1.000000</td>\n",
       "    </tr>\n",
       "    <tr>\n",
       "      <th>75%</th>\n",
       "      <td>77926.750000</td>\n",
       "      <td>NaN</td>\n",
       "      <td>1.000000</td>\n",
       "    </tr>\n",
       "    <tr>\n",
       "      <th>max</th>\n",
       "      <td>158574.000000</td>\n",
       "      <td>NaN</td>\n",
       "      <td>60.000000</td>\n",
       "    </tr>\n",
       "  </tbody>\n",
       "</table>\n",
       "</div>"
      ],
      "text/plain": [
       "         inventory_id set_num     quantity\n",
       "count     3986.000000    3986  3986.000000\n",
       "unique            NaN    2963          NaN\n",
       "top               NaN  7241-1          NaN\n",
       "freq              NaN      12          NaN\n",
       "mean     41624.325389     NaN     1.821124\n",
       "std      48918.576866     NaN     5.824826\n",
       "min         35.000000     NaN     1.000000\n",
       "25%       7277.250000     NaN     1.000000\n",
       "50%      14948.000000     NaN     1.000000\n",
       "75%      77926.750000     NaN     1.000000\n",
       "max     158574.000000     NaN    60.000000"
      ]
     },
     "execution_count": 34,
     "metadata": {},
     "output_type": "execute_result"
    }
   ],
   "source": [
    "df_inventory2sets = pd.read_csv(DATADIR + 'inventory_sets.csv')\n",
    "df_inventory2sets[['inventory_id', 'set_num', 'quantity']].describe(include='all')"
   ]
  },
  {
   "cell_type": "code",
   "execution_count": 35,
   "id": "7b56f378-b6f0-4c3c-9f6b-3f4b92fd1946",
   "metadata": {},
   "outputs": [
    {
     "name": "stdout",
     "output_type": "stream",
     "text": [
      "3986 Edges Upserted\n"
     ]
    }
   ],
   "source": [
    "e_inventory_sets = conn.upsertEdgeDataFrame(\n",
    "    df_inventory2sets, 'inventories', 'inventory_sets', 'sets'\n",
    "  , from_id='inventory_id', to_id='set_num'\n",
    "  , attributes = {'quantity':'quantity'}\n",
    ")\n",
    "print(str(e_inventory_sets) + ' Edges Upserted')"
   ]
  },
  {
   "cell_type": "markdown",
   "id": "cbb4feff-ed5b-43aa-b3c8-a11bfe99af1f",
   "metadata": {},
   "source": [
    "---\n",
    "Upload **part_categories_to_parts** EDGE from **themes** dataframe\n",
    "\n",
    "---"
   ]
  },
  {
   "cell_type": "code",
   "execution_count": 38,
   "id": "6792d7bc-4c39-4ace-b3ef-9d653e56fa6a",
   "metadata": {},
   "outputs": [
    {
     "name": "stdout",
     "output_type": "stream",
     "text": [
      "459 Edges Upserted\n"
     ]
    }
   ],
   "source": [
    "e_theme2sets = conn.upsertEdgeDataFrame(\n",
    "    df_themes, 'themes', 'themes_to_themes', 'themes'\n",
    "  , from_id='id', to_id='parent_id'\n",
    "  , attributes = {}\n",
    ")\n",
    "print(str(e_theme2sets) + ' Edges Upserted')"
   ]
  },
  {
   "cell_type": "markdown",
   "id": "81b1842f-8649-4a53-ada6-1732eb410d90",
   "metadata": {},
   "source": [
    "---\n",
    "Upload **colors_to_elements** EDGE from **elements** dataframe\n",
    "\n",
    "---"
   ]
  },
  {
   "cell_type": "code",
   "execution_count": 39,
   "id": "6d34e171-3ed0-4122-9a24-157c18d4fe6b",
   "metadata": {},
   "outputs": [
    {
     "name": "stdout",
     "output_type": "stream",
     "text": [
      "74170 Edges Upserted\n"
     ]
    }
   ],
   "source": [
    "e_colors2elements = conn.upsertEdgeDataFrame(\n",
    "    df_elements, 'colors', 'colors_to_elements', 'elements'\n",
    "  , from_id='color_id', to_id='element_id'\n",
    "  , attributes={}\n",
    ")\n",
    "print(str(e_colors2elements) + ' Edges Upserted')"
   ]
  },
  {
   "cell_type": "markdown",
   "id": "d4c3f03c-5edc-4d0b-8b9c-cd93e0e85eb4",
   "metadata": {},
   "source": [
    "---\n",
    "Load **parts2parts** dataframe and upload **parts_to_parts** EDGE\n",
    "\n",
    "---"
   ]
  },
  {
   "cell_type": "code",
   "execution_count": 41,
   "id": "d7b86d40-1c1c-4c9f-a7ec-9809f25bb266",
   "metadata": {},
   "outputs": [
    {
     "data": {
      "text/html": [
       "<div>\n",
       "<style scoped>\n",
       "    .dataframe tbody tr th:only-of-type {\n",
       "        vertical-align: middle;\n",
       "    }\n",
       "\n",
       "    .dataframe tbody tr th {\n",
       "        vertical-align: top;\n",
       "    }\n",
       "\n",
       "    .dataframe thead th {\n",
       "        text-align: right;\n",
       "    }\n",
       "</style>\n",
       "<table border=\"1\" class=\"dataframe\">\n",
       "  <thead>\n",
       "    <tr style=\"text-align: right;\">\n",
       "      <th></th>\n",
       "      <th>child_part_num</th>\n",
       "      <th>parent_part_num</th>\n",
       "      <th>rel_type</th>\n",
       "    </tr>\n",
       "  </thead>\n",
       "  <tbody>\n",
       "    <tr>\n",
       "      <th>count</th>\n",
       "      <td>27534</td>\n",
       "      <td>27534</td>\n",
       "      <td>27534</td>\n",
       "    </tr>\n",
       "    <tr>\n",
       "      <th>unique</th>\n",
       "      <td>25089</td>\n",
       "      <td>4308</td>\n",
       "      <td>6</td>\n",
       "    </tr>\n",
       "    <tr>\n",
       "      <th>top</th>\n",
       "      <td>3814</td>\n",
       "      <td>3626c</td>\n",
       "      <td>P</td>\n",
       "    </tr>\n",
       "    <tr>\n",
       "      <th>freq</th>\n",
       "      <td>23</td>\n",
       "      <td>2558</td>\n",
       "      <td>22012</td>\n",
       "    </tr>\n",
       "  </tbody>\n",
       "</table>\n",
       "</div>"
      ],
      "text/plain": [
       "       child_part_num parent_part_num rel_type\n",
       "count           27534           27534    27534\n",
       "unique          25089            4308        6\n",
       "top              3814           3626c        P\n",
       "freq               23            2558    22012"
      ]
     },
     "execution_count": 41,
     "metadata": {},
     "output_type": "execute_result"
    }
   ],
   "source": [
    "df_parts2parts = pd.read_csv(DATADIR + 'part_relationships.csv')\n",
    "df_parts2parts[['child_part_num', 'parent_part_num', 'rel_type']].describe(include='all')"
   ]
  },
  {
   "cell_type": "code",
   "execution_count": 42,
   "id": "deadf7e3-cf5b-4dca-894d-ef8926fd8aeb",
   "metadata": {},
   "outputs": [
    {
     "name": "stdout",
     "output_type": "stream",
     "text": [
      "27534 Edges Upserted\n"
     ]
    }
   ],
   "source": [
    "e_parts2parts = conn.upsertEdgeDataFrame(\n",
    "    df_parts2parts, 'parts', 'parts_to_parts', 'parts'\n",
    "  , from_id='parent_part_num', to_id='child_part_num'\n",
    "  , attributes = {'rel_type':'rel_type'}\n",
    ")\n",
    "print(str(e_parts2parts) + ' Edges Upserted')"
   ]
  },
  {
   "cell_type": "code",
   "execution_count": null,
   "id": "c2368242-37d4-48de-aa29-df3b65996843",
   "metadata": {},
   "outputs": [],
   "source": []
  }
 ],
 "metadata": {
  "kernelspec": {
   "display_name": "TigerGraph Pytorch",
   "language": "python",
   "name": "tigergraph-ml"
  },
  "language_info": {
   "codemirror_mode": {
    "name": "ipython",
    "version": 3
   },
   "file_extension": ".py",
   "mimetype": "text/x-python",
   "name": "python",
   "nbconvert_exporter": "python",
   "pygments_lexer": "ipython3",
   "version": "3.9.12"
  },
  "toc-autonumbering": true,
  "toc-showcode": true,
  "toc-showmarkdowntxt": true,
  "toc-showtags": false
 },
 "nbformat": 4,
 "nbformat_minor": 5
}
